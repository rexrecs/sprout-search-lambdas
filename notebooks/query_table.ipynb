{
 "cells": [
  {
   "cell_type": "code",
   "execution_count": 4,
   "metadata": {},
   "outputs": [
    {
     "name": "stdout",
     "output_type": "stream",
     "text": [
      "The autoreload extension is already loaded. To reload it, use:\n",
      "  %reload_ext autoreload\n"
     ]
    }
   ],
   "source": [
    "%load_ext autoreload\n",
    "%autoreload 2"
   ]
  },
  {
   "cell_type": "code",
   "execution_count": 23,
   "metadata": {},
   "outputs": [],
   "source": [
    "import sys\n",
    "sys.path.append(\"../\")\n",
    "from shared.utils.searcher import Searcher"
   ]
  },
  {
   "cell_type": "code",
   "execution_count": 34,
   "metadata": {},
   "outputs": [],
   "source": [
    "searcher = Searcher(model_name=\"model/all-MiniLM-L6-v2\")\n",
    "query = (\"William Jackson\")\n",
    "results = searcher.search(query, limit = 25, page = 6)"
   ]
  },
  {
   "cell_type": "code",
   "execution_count": 35,
   "metadata": {},
   "outputs": [
    {
     "name": "stdout",
     "output_type": "stream",
     "text": [
      "1.3128851370908157,('David Pace DVM', 'Stanford', 'Design', 'Business', 'East Anneborough, WI', 'Share describe do various car now alone effort hope character difference wall generation available.', 'https://randomuser.me/api/portraits/men/13.jpg', 1.3128851370908157)\n",
      "1.3132360301949522,('Alexandra Burgess', 'Stanford', 'Political Science', 'Philosophy', 'Williamsmouth, NE', 'Out save drop realize do building level coach behavior include forward player add peace pattern.', 'https://randomuser.me/api/portraits/men/12.jpg', 1.3132360301949522)\n",
      "1.3133534880768218,('Juan Figueroa', 'Stanford', 'Biology', 'Business', 'Jasonmouth, MO', 'Article similar job movement early mind another doctor vote director manage pick cup.', 'https://randomuser.me/api/portraits/men/5.jpg', 1.3133534880768218)\n",
      "1.3135070570344853,('Lisa Hendricks', 'UCLA', 'Journalism', 'Public Health', 'Kellychester, AR', 'List cell answer at likely site within black story.', 'https://randomuser.me/api/portraits/men/7.jpg', 1.3135070570344853)\n",
      "1.3135583334502456,('Yesenia Reed', 'Stanford', 'Computer Science', 'Graphic Design', 'North Jeffrey, SC', 'Little large game within while hot people meet language least management rate activity away.', 'https://randomuser.me/api/portraits/women/17.jpg', 1.3135583334502456)\n",
      "1.3141029197472907,('Caroline Nguyen', 'Michigan', 'Physics', 'Art History', 'Tracyborough, MN', 'Partner say across give onto future parent indicate for.', 'https://randomuser.me/api/portraits/men/8.jpg', 1.3141029197472907)\n",
      "1.3143222057788313,('Mr. Craig Howard PhD', 'UCLA', 'Political Science', 'Business', 'North Bradleyview, CT', 'Rather but camera arrive suggest total wife inside most student require room third.', 'https://randomuser.me/api/portraits/men/5.jpg', 1.3143222057788313)\n",
      "1.3146520410266456,('Shelia Roy DDS', 'Stanford', 'Physics', 'Philosophy', 'Sharpfurt, OR', 'Join others property seek story many worker during dog.', 'https://randomuser.me/api/portraits/women/15.jpg', 1.3146520410266456)\n",
      "1.314732696140792,('Danielle Santiago', 'UCLA', 'Physics', 'Business', 'Laurieton, WV', 'Evidence shake today suddenly in direction significant work want early environmental customer relate so.', 'https://randomuser.me/api/portraits/men/10.jpg', 1.314732696140792)\n",
      "1.3147938529036556,('Jacob Smith', 'MIT', 'Political Science', 'Psychology', 'Port Summertown, MS', 'Congress in compare share seem course create son.', 'https://randomuser.me/api/portraits/men/17.jpg', 1.3147938529036556)\n",
      "1.3150772041603571,('Edward Sosa', 'MIT', 'Economics', 'Philosophy', 'North Jerryborough, AR', 'Little generation full performance book pressure employee off PM collection its himself choice.', 'https://randomuser.me/api/portraits/men/17.jpg', 1.3150772041603571)\n",
      "1.3152594395994675,('Jacqueline Murphy', 'University of Pennsylvania', 'Marketing', 'Linguistics', 'Robinsonport, ME', 'Though we executive travel morning many try as mind.', 'https://randomuser.me/api/portraits/women/13.jpg', 1.3152594395994675)\n",
      "1.3159571484340162,('Ricardo Stephens', 'NYU', 'Design', 'Data Science', 'Levifurt, MS', 'Change describe finally always capital not court hundred address.', 'https://randomuser.me/api/portraits/men/10.jpg', 1.3159571484340162)\n",
      "1.3160725065797376,('Megan Blake', 'UCLA', 'Political Science', 'Business', 'East Shannonshire, VA', 'Minute finally strategy before put remember time owner treat red.', 'https://randomuser.me/api/portraits/women/13.jpg', 1.3160725065797376)\n",
      "1.3161914321896468,('Joseph Bryan', 'Michigan', 'Political Science', 'Math', 'West Ryan, ND', 'Score page certainly situation reduce financial message project seem none Mr effort.', 'https://randomuser.me/api/portraits/women/2.jpg', 1.3161914321896468)\n",
      "1.3162221808179038,('Mark Smith', 'MIT', 'Political Science', 'Art History', 'New Timothy, MD', 'Use easy enjoy together same shake base up view will bank large gun.', 'https://randomuser.me/api/portraits/men/19.jpg', 1.3162221808179038)\n",
      "1.3164333714258019,('Ashley Arias', 'Michigan', 'Physics', 'Public Health', 'Millerview, IL', 'Even recently fine window throw billion hear attorney positive door business ago the rate find.', 'https://randomuser.me/api/portraits/women/17.jpg', 1.3164333714258019)\n",
      "1.3173558463580894,('Jamie Romero', 'UCLA', 'Economics', 'Math', 'Rebeccaville, WA', 'Government because yes term for policy usually rule my support Democrat ability step show.', 'https://randomuser.me/api/portraits/men/10.jpg', 1.3173558463580894)\n",
      "1.3177099818444276,('Rebecca Galvan', 'Harvard', 'Economics', 'Philosophy', 'New Williestad, MO', 'Carry look line become hear too place church law environmental itself seek Mr then view doctor.', 'https://randomuser.me/api/portraits/women/6.jpg', 1.3177099818444276)\n",
      "1.3177890928748295,('Alicia Riggs', 'Harvard', 'Economics', 'Psychology', 'North Jason, VI', 'Development edge with federal course race child well beautiful.', 'https://randomuser.me/api/portraits/men/3.jpg', 1.3177890928748295)\n",
      "1.3183608217584655,('Elizabeth Meyer', 'NYU', 'Political Science', 'Data Science', 'Lancechester, FL', 'Drug life our page involve place threat pick particularly court less they executive guess in dinner.', 'https://randomuser.me/api/portraits/men/2.jpg', 1.3183608217584655)\n",
      "1.3188587740472244,('Jack Wilkerson', 'Cornell', 'Political Science', 'Creative Writing', 'East Monica, LA', 'Staff win draw recognize behind face whole fall maintain story above exist goal eat this.', 'https://randomuser.me/api/portraits/women/8.jpg', 1.3188587740472244)\n",
      "1.3189316249359189,('Scott Hendricks', 'NYU', 'Biology', 'Math', 'Debratown, MD', 'Rise reflect rock manage gas use nation must sing think strong key.', 'https://randomuser.me/api/portraits/men/5.jpg', 1.3189316249359189)\n",
      "1.3191685884565731,('Anne Campbell', 'UCLA', 'Political Science', 'Philosophy', 'East Marthaville, AL', 'People matter assume program appear everyone pretty yourself suffer center thank indeed outside water language.', 'https://randomuser.me/api/portraits/women/1.jpg', 1.3191685884565731)\n",
      "1.3195321751032874,('James Green', 'Harvard', 'Design', 'Psychology', 'North Veronica, CA', 'Class technology water sign and prepare themselves according cultural Congress season room another dog whole agree.', 'https://randomuser.me/api/portraits/women/15.jpg', 1.3195321751032874)\n"
     ]
    }
   ],
   "source": [
    "for result in results:\n",
    "    print(f\"{result['similarity_score']},{result['data']}\")"
   ]
  }
 ],
 "metadata": {
  "anaconda-cloud": {},
  "kernelspec": {
   "display_name": "fat_venv",
   "language": "python",
   "name": "python3"
  },
  "language_info": {
   "codemirror_mode": {
    "name": "ipython",
    "version": 3
   },
   "file_extension": ".py",
   "mimetype": "text/x-python",
   "name": "python",
   "nbconvert_exporter": "python",
   "pygments_lexer": "ipython3",
   "version": "3.10.9"
  },
  "varInspector": {
   "cols": {
    "lenName": 16,
    "lenType": 16,
    "lenVar": 40
   },
   "kernels_config": {
    "python": {
     "delete_cmd_postfix": "",
     "delete_cmd_prefix": "del ",
     "library": "var_list.py",
     "varRefreshCmd": "print(var_dic_list())"
    },
    "r": {
     "delete_cmd_postfix": ") ",
     "delete_cmd_prefix": "rm(",
     "library": "var_list.r",
     "varRefreshCmd": "cat(var_dic_list()) "
    }
   },
   "types_to_exclude": [
    "module",
    "function",
    "builtin_function_or_method",
    "instance",
    "_Feature"
   ],
   "window_display": false
  }
 },
 "nbformat": 4,
 "nbformat_minor": 4
}
