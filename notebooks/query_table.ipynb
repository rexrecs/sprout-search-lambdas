{
 "cells": [
  {
   "cell_type": "code",
   "execution_count": 4,
   "metadata": {},
   "outputs": [
    {
     "name": "stdout",
     "output_type": "stream",
     "text": [
      "The autoreload extension is already loaded. To reload it, use:\n",
      "  %reload_ext autoreload\n"
     ]
    }
   ],
   "source": [
    "%load_ext autoreload\n",
    "%autoreload 2"
   ]
  },
  {
   "cell_type": "code",
   "execution_count": 23,
   "metadata": {},
   "outputs": [],
   "source": [
    "import sys\n",
    "sys.path.append(\"../\")\n",
    "from shared.utils.searcher import Searcher"
   ]
  },
  {
   "cell_type": "code",
   "execution_count": 44,
   "metadata": {},
   "outputs": [],
   "source": [
    "searcher = Searcher(model_name=\"model/all-MiniLM-L6-v2\")\n",
    "query = (\"harvard economics art\")\n",
    "results = searcher.search(query, limit = 25, page = 0)"
   ]
  },
  {
   "cell_type": "code",
   "execution_count": 45,
   "metadata": {},
   "outputs": [
    {
     "name": "stdout",
     "output_type": "stream",
     "text": [
      "0.5068793187215553,('Kristine Zimmerman', 'UCLA', 'Economics', 'Art History', 'Smithberg, NJ', 'Edge culture represent family animal spring possible from compare.', 'https://randomuser.me/api/portraits/women/19.jpg', 0.972856186995728)\n",
      "0.5064438816129819,('Stephanie Simpson', 'Harvard', 'Economics', 'Art History', 'New Kathrynstad, MT', 'Former stay onto western indicate simple but clear account friend down.', 'https://randomuser.me/api/portraits/men/8.jpg', 0.9745524357310482)\n",
      "0.5000373926056358,('Dr. Andrew Williams', 'Harvard', 'Economics', 'Psychology', 'Raymondburgh, MD', 'Imagine maintain by south one great other open off agency small each.', 'https://randomuser.me/api/portraits/women/0.jpg', 0.9998504407622758)\n",
      "0.49905985494914124,('Kevin Klein', 'Harvard', 'Political Science', 'Art History', 'Simmonshaven, MI', 'Animal away agree feeling society themselves central usually red usually resource include seat would.', 'https://randomuser.me/api/portraits/women/3.jpg', 1.0037676645057116)\n",
      "0.4988066058762417,('Melissa Weber', 'MIT', 'Economics', 'Art History', 'Port Davidmouth, HI', 'Party next scientist with down those message way accept building player who yes hundred tend.', 'https://randomuser.me/api/portraits/women/14.jpg', 1.0047849972702823)\n",
      "0.497331702974318,('William Jackson', 'Harvard', 'Economics', 'Data Science', 'New Lauren, AL', 'Now live under land world dog western size same range.', 'https://randomuser.me/api/portraits/men/13.jpg', 1.0107304521699465)\n",
      "0.49671085145542054,('John Johnson', 'NYU', 'Economics', 'Art History', 'Harrisonport, NV', 'Investment need sea only could onto who side should Democrat ability scientist property.', 'https://randomuser.me/api/portraits/men/10.jpg', 1.013243715271941)\n",
      "0.4959801376595333,('Adrian Bright', 'Harvard', 'Economics', 'Data Science', 'Mccormickmouth, DE', 'Provide reach class tonight certainly shake natural into short data adult future.', 'https://randomuser.me/api/portraits/men/2.jpg', 1.0162097714615583)\n",
      "0.49581600473699416,('Richard Watson', 'Stanford', 'Economics', 'Art History', 'Andrechester, PW', 'Impact seven mouth key box daughter be recent no buy director sport it owner professor.', 'https://randomuser.me/api/portraits/men/11.jpg', 1.0168772093802227)\n",
      "0.49491426910657443,('Robert Johnson', 'UCLA', 'Economics', 'Philosophy', 'South Matthewburgh, VT', 'Far we focus plan religious particularly your along cut manage chance.', 'https://randomuser.me/api/portraits/women/11.jpg', 1.0205519671219274)\n",
      "0.4948581896441654,('Thomas Perez', 'UC Berkeley', 'Economics', 'Creative Writing', 'Port Christinehaven, TN', 'Food far quality how our sort physical no nor dream into class politics.', 'https://randomuser.me/api/portraits/women/5.jpg', 1.02078094477746)\n",
      "0.49421611881266925,('Veronica Conner', 'Harvard', 'Economics', 'Art History', 'Karenshire, NC', 'Whether alone new free send something two call camera method.', 'https://randomuser.me/api/portraits/men/19.jpg', 1.0234062830699502)\n",
      "0.49394753418662796,('John Griffin', 'MIT', 'Economics', 'Philosophy', 'West Evanborough, ND', 'Field investment amount hour phone relate cost price establish sea town fish goal huge.', 'https://randomuser.me/api/portraits/men/6.jpg', 1.0245065129167554)\n",
      "0.49129141136947496,('Michael Morgan', 'Harvard', 'Economics', 'Philosophy', 'East Chrismouth, CA', 'Ask serve upon political understand draw nor long order herself yeah tonight.', 'https://randomuser.me/api/portraits/men/9.jpg', 1.0354518252466487)\n",
      "0.4909865902455979,('Robert Nichols', 'NYU', 'Economics', 'Math', 'South Stevenmouth, FM', 'Present candidate industry unit now memory your store debate born.', 'https://randomuser.me/api/portraits/women/17.jpg', 1.0367155027590205)\n",
      "0.49078469159085664,('Alicia Riggs', 'Harvard', 'Economics', 'Psychology', 'North Jason, VI', 'Development edge with federal course race child well beautiful.', 'https://randomuser.me/api/portraits/men/3.jpg', 1.0375533653230804)\n",
      "0.48952192842381786,('Alexander Hall', 'Harvard', 'Design', 'Art History', 'Mccallfurt, PA', 'Without training boy economic maintain fund business.', 'https://randomuser.me/api/portraits/women/2.jpg', 1.04280940635252)\n",
      "0.4887856482128918,('Tara Irwin', 'MIT', 'Economics', 'Art History', 'North Nathanchester, DE', 'Safe road oil who partner include soon long war party wall.', 'https://randomuser.me/api/portraits/men/11.jpg', 1.045886583733014)\n",
      "0.48853524149433236,('Rebecca Galvan', 'Harvard', 'Economics', 'Philosophy', 'New Williestad, MO', 'Carry look line become hear too place church law environmental itself seek Mr then view doctor.', 'https://randomuser.me/api/portraits/women/6.jpg', 1.0469352363223547)\n",
      "0.4883896515464542,('Jason Watkins', 'Stanford', 'Economics', 'Art History', 'Erinport, NV', 'Teacher administration put adult central adult west girl house fight social west fight point woman.', 'https://randomuser.me/api/portraits/men/15.jpg', 1.0475454318771185)\n",
      "0.48828931466347525,('Ryan Holland', 'Harvard', 'Economics', 'Business', 'Port Annashire, SC', 'Actually discuss security family gas detail sound evidence certainly choose material level new election.', 'https://randomuser.me/api/portraits/men/14.jpg', 1.0479661749083966)\n",
      "0.4881693322284253,('Robert Proctor', 'Duke', 'Economics', 'Creative Writing', 'North Allison, PW', 'Country almost several TV discuss senior break few once national could style marriage risk.', 'https://randomuser.me/api/portraits/men/4.jpg', 1.0484695247756322)\n",
      "0.4864164826404107,('Elizabeth Johnson', 'Yale', 'Economics', 'Math', 'Allisonville, CT', 'Keep skin suffer more family many push new discussion blood effect.', 'https://randomuser.me/api/portraits/men/2.jpg', 1.0558513859804008)\n",
      "0.4859749329591062,('James Garcia', 'MIT', 'Economics', 'Data Science', 'South Brian, MD', 'Body get visit police man less money car sound same out large argue old since middle.', 'https://randomuser.me/api/portraits/men/14.jpg', 1.0577193023331266)\n",
      "0.48538694740791666,('Christopher Myers', 'Harvard', 'Economics', 'Data Science', 'Port Chelseafurt, VI', 'Loss point while item dark another agree wide home hospital turn care ago strategy.', 'https://randomuser.me/api/portraits/women/2.jpg', 1.06021197178919)\n"
     ]
    }
   ],
   "source": [
    "for result in results:\n",
    "    print(f\"{result['similarity_score']},{result['data']}\")"
   ]
  }
 ],
 "metadata": {
  "anaconda-cloud": {},
  "kernelspec": {
   "display_name": "fat_venv",
   "language": "python",
   "name": "python3"
  },
  "language_info": {
   "codemirror_mode": {
    "name": "ipython",
    "version": 3
   },
   "file_extension": ".py",
   "mimetype": "text/x-python",
   "name": "python",
   "nbconvert_exporter": "python",
   "pygments_lexer": "ipython3",
   "version": "3.10.9"
  },
  "varInspector": {
   "cols": {
    "lenName": 16,
    "lenType": 16,
    "lenVar": 40
   },
   "kernels_config": {
    "python": {
     "delete_cmd_postfix": "",
     "delete_cmd_prefix": "del ",
     "library": "var_list.py",
     "varRefreshCmd": "print(var_dic_list())"
    },
    "r": {
     "delete_cmd_postfix": ") ",
     "delete_cmd_prefix": "rm(",
     "library": "var_list.r",
     "varRefreshCmd": "cat(var_dic_list()) "
    }
   },
   "types_to_exclude": [
    "module",
    "function",
    "builtin_function_or_method",
    "instance",
    "_Feature"
   ],
   "window_display": false
  }
 },
 "nbformat": 4,
 "nbformat_minor": 4
}
